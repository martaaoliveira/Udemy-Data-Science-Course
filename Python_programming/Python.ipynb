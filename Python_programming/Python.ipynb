{
  "nbformat": 4,
  "nbformat_minor": 0,
  "metadata": {
    "colab": {
      "provenance": [],
      "toc_visible": true
    },
    "kernelspec": {
      "name": "python3",
      "display_name": "Python 3"
    },
    "language_info": {
      "name": "python"
    }
  },
  "cells": [
    {
      "cell_type": "code",
      "execution_count": 1,
      "metadata": {
        "colab": {
          "base_uri": "https://localhost:8080/"
        },
        "id": "V4c9tS-NNB3j",
        "outputId": "aba0e590-330c-4e42-f539-ec2a781455e8"
      },
      "outputs": [
        {
          "output_type": "stream",
          "name": "stdout",
          "text": [
            "Amplitude: 98\n"
          ]
        }
      ],
      "source": [
        "#1. Faça um programa que tenha uma função chamada amplitude. A função deve receber uma lista e imprimir a amplitude.\n",
        "#Crie também um código para testar sua função\n",
        "def amplitude(vet):\n",
        "    print(\"Amplitude:\", max(vet) - min(vet))\n",
        "\n",
        "vetor = [12,23,45,2,100]\n",
        "amplitude(vetor)\n",
        "\n"
      ]
    },
    {
      "cell_type": "code",
      "source": [
        "#2. Faça uma função que receba uma string e imprima esta string na forma vertical\n",
        "def imprime(texto):\n",
        "    for n in range(0, len(texto)):\n",
        "        print(texto[n])\n",
        "\n",
        "imprime(\"teste\")"
      ],
      "metadata": {
        "colab": {
          "base_uri": "https://localhost:8080/"
        },
        "id": "Oz5Ex8fmNmzx",
        "outputId": "bfefb937-fe06-4fc0-afb4-b3b881474f7a"
      },
      "execution_count": 2,
      "outputs": [
        {
          "output_type": "stream",
          "name": "stdout",
          "text": [
            "t\n",
            "e\n",
            "s\n",
            "t\n",
            "e\n"
          ]
        }
      ]
    },
    {
      "cell_type": "code",
      "source": [
        "#3. Crie um programa que leia o peso de uma carga em números inteiros.\n",
        "#Se o peso for até 10 kg, informe que o valor será de R$ 50,00.\n",
        "#Entre 11 e 20 kg, informe que o valor será de R$ 80.\n",
        "# Se for maior que  20 informe que o transporte não é aceito. Teste vários pesos.\n",
        "\n",
        "def peso(peso):\n",
        "  if peso<=10:\n",
        "    print(\"Valor da carga é de $ 50,00\")\n",
        "  elif peso>=11 and peso <=20:\n",
        "    print(\"Valor da carga é de $ 80,00\")\n",
        "  else:\n",
        "    print(\"O transporte não é aceite\")\n",
        "\n",
        "x=int(input(\"Insira um peso:\\n\"))\n",
        "peso(x)\n",
        "\n",
        "\n"
      ],
      "metadata": {
        "colab": {
          "base_uri": "https://localhost:8080/"
        },
        "id": "WklqkzCzNyvi",
        "outputId": "7d517102-ab36-488a-8bbf-f1de192c33fc"
      },
      "execution_count": 5,
      "outputs": [
        {
          "output_type": "stream",
          "name": "stdout",
          "text": [
            "Insira um peso:\n",
            "5\n",
            "Valor da carga é de $ 50,00\n"
          ]
        }
      ]
    }
  ]
}