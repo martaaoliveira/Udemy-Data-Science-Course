{
  "cells": [
    {
      "cell_type": "markdown",
      "metadata": {
        "id": "CWUuphHPsskO"
      },
      "source": [
        "Formação Cientista de Dados - Fernando Amaral e Jones Granatyr\n",
        "Limpeza e tratamento de dados"
      ]
    },
    {
      "cell_type": "code",
      "execution_count": null,
      "metadata": {
        "id": "uGyfZJOzsskU"
      },
      "outputs": [],
      "source": [
        "import pandas as pd\n",
        "import seaborn as srn\n",
        "import statistics  as sts"
      ]
    },
    {
      "cell_type": "code",
      "execution_count": null,
      "metadata": {
        "id": "a4pjaA9ssskW"
      },
      "outputs": [],
      "source": [
        "dataset = pd.read_csv(\"tempo.csv\", sep=\";\")\n",
        "dataset.head()"
      ]
    },
    {
      "cell_type": "code",
      "execution_count": null,
      "metadata": {
        "id": "BDmOLAZOsskW"
      },
      "outputs": [],
      "source": [
        "agrupado = dataset.groupby(['Aparencia']).size()\n",
        "agrupado.plot.bar(color = 'gray')"
      ]
    },
    {
      "cell_type": "code",
      "execution_count": null,
      "metadata": {
        "id": "Oc74G6wGsskX"
      },
      "outputs": [],
      "source": [
        "agrupado = dataset.groupby(['Vento']).size()\n",
        "agrupado.plot.bar(color = 'gray')"
      ]
    },
    {
      "cell_type": "code",
      "execution_count": null,
      "metadata": {
        "id": "emUDx8awsskY"
      },
      "outputs": [],
      "source": [
        "agrupado = dataset.groupby(['Jogar']).size()\n",
        "agrupado.plot.bar(color = 'gray')"
      ]
    },
    {
      "cell_type": "code",
      "execution_count": null,
      "metadata": {
        "id": "SYFx8whdsska"
      },
      "outputs": [],
      "source": [
        "dataset['Temperatura'].describe()"
      ]
    },
    {
      "cell_type": "code",
      "execution_count": null,
      "metadata": {
        "id": "e_b1GMtHsska"
      },
      "outputs": [],
      "source": [
        "srn.boxplot(dataset['Temperatura']).set_title('Temperatura')"
      ]
    },
    {
      "cell_type": "code",
      "execution_count": null,
      "metadata": {
        "id": "dtTMZlFHsska"
      },
      "outputs": [],
      "source": [
        "srn.distplot(dataset['Temperatura']).set_title('Temperatura')"
      ]
    },
    {
      "cell_type": "code",
      "execution_count": null,
      "metadata": {
        "id": "LL7SZNUVsskb"
      },
      "outputs": [],
      "source": [
        "dataset['Umidade'].describe()"
      ]
    },
    {
      "cell_type": "code",
      "execution_count": null,
      "metadata": {
        "id": "KICGOdq2sskb"
      },
      "outputs": [],
      "source": [
        "srn.boxplot(dataset['Umidade']).set_title('Umidade')"
      ]
    },
    {
      "cell_type": "code",
      "execution_count": null,
      "metadata": {
        "id": "fHgj3Vjmsskb"
      },
      "outputs": [],
      "source": [
        "srn.distplot(dataset['Umidade']).set_title('Umidade')"
      ]
    },
    {
      "cell_type": "code",
      "execution_count": null,
      "metadata": {
        "id": "7bay1xVXsskb"
      },
      "outputs": [],
      "source": [
        "dataset.isnull().sum()"
      ]
    },
    {
      "cell_type": "code",
      "execution_count": null,
      "metadata": {
        "id": "XV2NfUFosskb"
      },
      "outputs": [],
      "source": [
        "agrupado = dataset.groupby(['Aparencia']).size()\n",
        "agrupado"
      ]
    },
    {
      "cell_type": "code",
      "execution_count": null,
      "metadata": {
        "id": "PBBRuqt6sskc"
      },
      "outputs": [],
      "source": [
        "dataset.loc[dataset['Aparencia'] ==  'menos', 'Aparencia'] = \"Sol\"\n",
        "agrupado = dataset.groupby(['Aparencia']).size()\n",
        "agrupado"
      ]
    },
    {
      "cell_type": "code",
      "execution_count": null,
      "metadata": {
        "id": "DkAlGRsEsskc"
      },
      "outputs": [],
      "source": [
        "dataset['Temperatura'].describe()"
      ]
    },
    {
      "cell_type": "code",
      "execution_count": null,
      "metadata": {
        "id": "7ahb0v9_sskc"
      },
      "outputs": [],
      "source": [
        "dataset.loc[(dataset['Temperatura'] <  -130 )  | ( dataset['Temperatura'] >  130) ]"
      ]
    },
    {
      "cell_type": "code",
      "execution_count": null,
      "metadata": {
        "id": "a8OVlJ1zsskc"
      },
      "outputs": [],
      "source": [
        "mediana = sts.median(dataset['Temperatura'])\n",
        "mediana"
      ]
    },
    {
      "cell_type": "code",
      "execution_count": null,
      "metadata": {
        "id": "iZ5A3XSPsskc"
      },
      "outputs": [],
      "source": [
        "dataset.loc[(dataset['Temperatura'] <  -130 )  | ( dataset['Temperatura'] >  130), 'Temperatura'] = mediana"
      ]
    },
    {
      "cell_type": "code",
      "execution_count": null,
      "metadata": {
        "id": "6gi1ZT-vsskd"
      },
      "outputs": [],
      "source": [
        "dataset.loc[(dataset['Temperatura'] <  -130 )  | ( dataset['Temperatura'] >  130) ]"
      ]
    },
    {
      "cell_type": "code",
      "execution_count": null,
      "metadata": {
        "id": "CpQ-SOS5sskd"
      },
      "outputs": [],
      "source": [
        "agrupado = dataset.groupby(['Umidade']).size()\n",
        "agrupado"
      ]
    },
    {
      "cell_type": "code",
      "execution_count": null,
      "metadata": {
        "id": "OhATfWd4sskd"
      },
      "outputs": [],
      "source": [
        "dataset['Umidade'].isnull().sum()"
      ]
    },
    {
      "cell_type": "code",
      "execution_count": null,
      "metadata": {
        "id": "9dNJDYoXsskd"
      },
      "outputs": [],
      "source": [
        "mediana = sts.median(dataset['Umidade'])\n",
        "mediana"
      ]
    },
    {
      "cell_type": "code",
      "execution_count": null,
      "metadata": {
        "id": "Dr0H5_mwsskd"
      },
      "outputs": [],
      "source": [
        "dataset['Umidade'].fillna(mediana, inplace=True)"
      ]
    },
    {
      "cell_type": "code",
      "execution_count": null,
      "metadata": {
        "id": "LLYL1vAVsskd"
      },
      "outputs": [],
      "source": [
        "dataset['Umidade'].isnull().sum()"
      ]
    },
    {
      "cell_type": "code",
      "execution_count": null,
      "metadata": {
        "id": "-YPgjl7Zsskd"
      },
      "outputs": [],
      "source": [
        "dataset.loc[(dataset['Umidade'] <  0 )  | ( dataset['Umidade'] >  100) ]"
      ]
    },
    {
      "cell_type": "code",
      "execution_count": null,
      "metadata": {
        "id": "rVUeTIxcsske"
      },
      "outputs": [],
      "source": [
        "dataset.loc[(dataset['Umidade'] <  0 )  | ( dataset['Umidade'] >  100), 'Umidade'] = mediana"
      ]
    },
    {
      "cell_type": "code",
      "execution_count": null,
      "metadata": {
        "id": "8miSh2e0sske"
      },
      "outputs": [],
      "source": [
        "dataset.loc[(dataset['Umidade'] <  0 )  | ( dataset['Umidade'] >  100) ]"
      ]
    },
    {
      "cell_type": "code",
      "execution_count": null,
      "metadata": {
        "id": "EottQTDKsske"
      },
      "outputs": [],
      "source": [
        "agrupado = dataset.groupby(['Vento']).size()"
      ]
    },
    {
      "cell_type": "code",
      "execution_count": null,
      "metadata": {
        "id": "RxRncZJvsske"
      },
      "outputs": [],
      "source": [
        "dataset['Vento'].isnull().sum()"
      ]
    },
    {
      "cell_type": "code",
      "execution_count": null,
      "metadata": {
        "id": "O1OMVKUosske"
      },
      "outputs": [],
      "source": [
        "dataset['Vento'].fillna('FALSO', inplace=True)"
      ]
    },
    {
      "cell_type": "code",
      "execution_count": null,
      "metadata": {
        "id": "e34xnqGPsske"
      },
      "outputs": [],
      "source": [
        "dataset['Vento'].isnull().sum()"
      ]
    },
    {
      "cell_type": "code",
      "execution_count": null,
      "metadata": {
        "id": "YcLtwllOsskf"
      },
      "outputs": [],
      "source": []
    },
    {
      "cell_type": "code",
      "execution_count": null,
      "metadata": {
        "id": "BrDuROCysskf"
      },
      "outputs": [],
      "source": []
    }
  ],
  "metadata": {
    "kernelspec": {
      "display_name": "Python 3",
      "language": "python",
      "name": "python3"
    },
    "language_info": {
      "codemirror_mode": {
        "name": "ipython",
        "version": 3
      },
      "file_extension": ".py",
      "mimetype": "text/x-python",
      "name": "python",
      "nbconvert_exporter": "python",
      "pygments_lexer": "ipython3",
      "version": "3.8.10"
    },
    "colab": {
      "provenance": []
    }
  },
  "nbformat": 4,
  "nbformat_minor": 0
}